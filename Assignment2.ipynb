{
  "nbformat": 4,
  "nbformat_minor": 0,
  "metadata": {
    "colab": {
      "provenance": []
    },
    "kernelspec": {
      "name": "python3",
      "display_name": "Python 3"
    },
    "language_info": {
      "name": "python"
    }
  },
  "cells": [
    {
      "cell_type": "code",
      "execution_count": 3,
      "metadata": {
        "id": "kz9c8p-gr6ZL",
        "colab": {
          "base_uri": "https://localhost:8080/"
        },
        "outputId": "49835a3e-801d-492f-e391-d4c01e87271d"
      },
      "outputs": [
        {
          "output_type": "stream",
          "name": "stdout",
          "text": [
            "Downloading data from https://storage.googleapis.com/tensorflow/tf-keras-datasets/imdb.npz\n",
            "\u001b[1m17464789/17464789\u001b[0m \u001b[32m━━━━━━━━━━━━━━━━━━━━\u001b[0m\u001b[37m\u001b[0m \u001b[1m0s\u001b[0m 0us/step\n"
          ]
        }
      ],
      "source": [
        "# Loading IMDB dataset\n",
        "import numpy as np\n",
        "import matplotlib.pyplot as plt\n",
        "from tensorflow import keras\n",
        "from tensorflow.keras import layers\n",
        "from tensorflow.keras.datasets import imdb\n",
        "\n",
        "# Load data\n",
        "(train_data, train_labels), (test_data, test_labels) = imdb.load_data(num_words=10000)\n",
        "\n",
        "# Encoding labels\n",
        "def encoded_labels(sequences, size=10000):\n",
        "    results = np.zeros((len(sequences), size))\n",
        "    for i, seq in enumerate(sequences):\n",
        "        # Considering word indices within the specified size\n",
        "        for j in seq:\n",
        "            if j < size:\n",
        "                results[i, j] = 1.0\n",
        "    return results\n",
        "\n",
        "x_train = encoded_labels(train_data)\n",
        "x_test =encoded_labels(test_data)\n",
        "y_train = np.array(train_labels).astype(\"float32\")\n",
        "y_test = np.array(test_labels).astype(\"float32\")\n",
        "\n",
        "# Split a portion of the training data for validation\n",
        "x_val = x_train[:10000]\n",
        "partial_x_train = x_train[10000:]\n",
        "y_val = y_train[:10000]\n",
        "partial_y_train = y_train[10000:]"
      ]
    },
    {
      "cell_type": "code",
      "source": [
        "def display_training(history, title=\"Model Performance\"):\n",
        "    plt.figure(figsize=(8, 5))\n",
        "    plt.plot(history.history['val_accuracy'], label=\"Validation Accuracy\")\n",
        "    plt.plot(history.history['accuracy'], label=\"Training Accuracy\")\n",
        "    plt.title(title)\n",
        "    plt.xlabel(\"Epochs\")\n",
        "    plt.ylabel(\"Accuracy\")\n",
        "    plt.legend()\n",
        "    plt.grid(True)\n",
        "    plt.show()"
      ],
      "metadata": {
        "id": "ool0AXTYsBMZ"
      },
      "execution_count": 4,
      "outputs": []
    },
    {
      "cell_type": "code",
      "source": [
        "def model_variant(layer_config=[16, 16], activation_fn=\"relu\",\n",
        "                  loss_fn=\"binary_crossentropy\", dropout=False, l2_reg=None):\n",
        "    model = keras.Sequential()\n",
        "    for units in layer_config:\n",
        "        model.add(layers.Dense(units, activation=activation_fn,\n",
        "                               kernel_regularizer=keras.regularizers.l2(l2_reg) if l2_reg else None))\n",
        "        if dropout:\n",
        "            model.add(layers.Dropout(0.5))\n",
        "    model.add(layers.Dense(1, activation=\"sigmoid\"))\n",
        "    model.compile(optimizer=\"rmsprop\", loss=loss_fn, metrics=[\"accuracy\"])\n",
        "    return model"
      ],
      "metadata": {
        "id": "DHEO0AdvsMah"
      },
      "execution_count": 5,
      "outputs": []
    },
    {
      "cell_type": "code",
      "source": [
        "print(\"Training Base Model (2 layers × 16 units)...\")\n",
        "base_net = model_variant()\n",
        "base_hist = base_net.fit(partial_x_train, partial_y_train,\n",
        "                         epochs=20, batch_size=512,\n",
        "                         validation_data=(x_val, y_val), verbose=1)"
      ],
      "metadata": {
        "id": "LaqdiW6WsTob",
        "colab": {
          "base_uri": "https://localhost:8080/"
        },
        "outputId": "9362410b-c250-4d0d-a6a6-989fa510662e"
      },
      "execution_count": 6,
      "outputs": [
        {
          "output_type": "stream",
          "name": "stdout",
          "text": [
            "Training Base Model (2 layers × 16 units)...\n",
            "Epoch 1/20\n",
            "\u001b[1m30/30\u001b[0m \u001b[32m━━━━━━━━━━━━━━━━━━━━\u001b[0m\u001b[37m\u001b[0m \u001b[1m8s\u001b[0m 203ms/step - accuracy: 0.7119 - loss: 0.6018 - val_accuracy: 0.7972 - val_loss: 0.4610\n",
            "Epoch 2/20\n",
            "\u001b[1m30/30\u001b[0m \u001b[32m━━━━━━━━━━━━━━━━━━━━\u001b[0m\u001b[37m\u001b[0m \u001b[1m1s\u001b[0m 40ms/step - accuracy: 0.8814 - loss: 0.3656 - val_accuracy: 0.8797 - val_loss: 0.3280\n",
            "Epoch 3/20\n",
            "\u001b[1m30/30\u001b[0m \u001b[32m━━━━━━━━━━━━━━━━━━━━\u001b[0m\u001b[37m\u001b[0m \u001b[1m1s\u001b[0m 41ms/step - accuracy: 0.9162 - loss: 0.2662 - val_accuracy: 0.8885 - val_loss: 0.2887\n",
            "Epoch 4/20\n",
            "\u001b[1m30/30\u001b[0m \u001b[32m━━━━━━━━━━━━━━━━━━━━\u001b[0m\u001b[37m\u001b[0m \u001b[1m1s\u001b[0m 45ms/step - accuracy: 0.9312 - loss: 0.2091 - val_accuracy: 0.8881 - val_loss: 0.2773\n",
            "Epoch 5/20\n",
            "\u001b[1m30/30\u001b[0m \u001b[32m━━━━━━━━━━━━━━━━━━━━\u001b[0m\u001b[37m\u001b[0m \u001b[1m2s\u001b[0m 75ms/step - accuracy: 0.9481 - loss: 0.1710 - val_accuracy: 0.8816 - val_loss: 0.2960\n",
            "Epoch 6/20\n",
            "\u001b[1m30/30\u001b[0m \u001b[32m━━━━━━━━━━━━━━━━━━━━\u001b[0m\u001b[37m\u001b[0m \u001b[1m2s\u001b[0m 65ms/step - accuracy: 0.9527 - loss: 0.1540 - val_accuracy: 0.8889 - val_loss: 0.2802\n",
            "Epoch 7/20\n",
            "\u001b[1m30/30\u001b[0m \u001b[32m━━━━━━━━━━━━━━━━━━━━\u001b[0m\u001b[37m\u001b[0m \u001b[1m2s\u001b[0m 76ms/step - accuracy: 0.9629 - loss: 0.1256 - val_accuracy: 0.8854 - val_loss: 0.2895\n",
            "Epoch 8/20\n",
            "\u001b[1m30/30\u001b[0m \u001b[32m━━━━━━━━━━━━━━━━━━━━\u001b[0m\u001b[37m\u001b[0m \u001b[1m3s\u001b[0m 100ms/step - accuracy: 0.9711 - loss: 0.1085 - val_accuracy: 0.8836 - val_loss: 0.3011\n",
            "Epoch 9/20\n",
            "\u001b[1m30/30\u001b[0m \u001b[32m━━━━━━━━━━━━━━━━━━━━\u001b[0m\u001b[37m\u001b[0m \u001b[1m3s\u001b[0m 40ms/step - accuracy: 0.9745 - loss: 0.0940 - val_accuracy: 0.8822 - val_loss: 0.3168\n",
            "Epoch 10/20\n",
            "\u001b[1m30/30\u001b[0m \u001b[32m━━━━━━━━━━━━━━━━━━━━\u001b[0m\u001b[37m\u001b[0m \u001b[1m1s\u001b[0m 49ms/step - accuracy: 0.9790 - loss: 0.0820 - val_accuracy: 0.8815 - val_loss: 0.3282\n",
            "Epoch 11/20\n",
            "\u001b[1m30/30\u001b[0m \u001b[32m━━━━━━━━━━━━━━━━━━━━\u001b[0m\u001b[37m\u001b[0m \u001b[1m2s\u001b[0m 38ms/step - accuracy: 0.9847 - loss: 0.0659 - val_accuracy: 0.8786 - val_loss: 0.3468\n",
            "Epoch 12/20\n",
            "\u001b[1m30/30\u001b[0m \u001b[32m━━━━━━━━━━━━━━━━━━━━\u001b[0m\u001b[37m\u001b[0m \u001b[1m1s\u001b[0m 37ms/step - accuracy: 0.9868 - loss: 0.0582 - val_accuracy: 0.8770 - val_loss: 0.3661\n",
            "Epoch 13/20\n",
            "\u001b[1m30/30\u001b[0m \u001b[32m━━━━━━━━━━━━━━━━━━━━\u001b[0m\u001b[37m\u001b[0m \u001b[1m2s\u001b[0m 62ms/step - accuracy: 0.9870 - loss: 0.0559 - val_accuracy: 0.8730 - val_loss: 0.3946\n",
            "Epoch 14/20\n",
            "\u001b[1m30/30\u001b[0m \u001b[32m━━━━━━━━━━━━━━━━━━━━\u001b[0m\u001b[37m\u001b[0m \u001b[1m2s\u001b[0m 76ms/step - accuracy: 0.9924 - loss: 0.0438 - val_accuracy: 0.8773 - val_loss: 0.4088\n",
            "Epoch 15/20\n",
            "\u001b[1m30/30\u001b[0m \u001b[32m━━━━━━━━━━━━━━━━━━━━\u001b[0m\u001b[37m\u001b[0m \u001b[1m2s\u001b[0m 49ms/step - accuracy: 0.9940 - loss: 0.0361 - val_accuracy: 0.8731 - val_loss: 0.4548\n",
            "Epoch 16/20\n",
            "\u001b[1m30/30\u001b[0m \u001b[32m━━━━━━━━━━━━━━━━━━━━\u001b[0m\u001b[37m\u001b[0m \u001b[1m1s\u001b[0m 39ms/step - accuracy: 0.9949 - loss: 0.0324 - val_accuracy: 0.8678 - val_loss: 0.4713\n",
            "Epoch 17/20\n",
            "\u001b[1m30/30\u001b[0m \u001b[32m━━━━━━━━━━━━━━━━━━━━\u001b[0m\u001b[37m\u001b[0m \u001b[1m1s\u001b[0m 40ms/step - accuracy: 0.9954 - loss: 0.0279 - val_accuracy: 0.8719 - val_loss: 0.4742\n",
            "Epoch 18/20\n",
            "\u001b[1m30/30\u001b[0m \u001b[32m━━━━━━━━━━━━━━━━━━━━\u001b[0m\u001b[37m\u001b[0m \u001b[1m1s\u001b[0m 39ms/step - accuracy: 0.9975 - loss: 0.0219 - val_accuracy: 0.8731 - val_loss: 0.5085\n",
            "Epoch 19/20\n",
            "\u001b[1m30/30\u001b[0m \u001b[32m━━━━━━━━━━━━━━━━━━━━\u001b[0m\u001b[37m\u001b[0m \u001b[1m1s\u001b[0m 39ms/step - accuracy: 0.9978 - loss: 0.0198 - val_accuracy: 0.8729 - val_loss: 0.5181\n",
            "Epoch 20/20\n",
            "\u001b[1m30/30\u001b[0m \u001b[32m━━━━━━━━━━━━━━━━━━━━\u001b[0m\u001b[37m\u001b[0m \u001b[1m1s\u001b[0m 39ms/step - accuracy: 0.9991 - loss: 0.0142 - val_accuracy: 0.8659 - val_loss: 0.5514\n"
          ]
        }
      ]
    },
    {
      "cell_type": "code",
      "source": [
        "print(\"One Hidden Layer\")\n",
        "one_layer = model_variant(layer_config=[16])\n",
        "hist_one = one_layer.fit(partial_x_train, partial_y_train, epochs=20, batch_size=512,\n",
        "                         validation_data=(x_val, y_val), verbose=1)"
      ],
      "metadata": {
        "colab": {
          "base_uri": "https://localhost:8080/"
        },
        "id": "mTshnV1astih",
        "outputId": "01423170-810e-41d7-f975-613e37da10dc"
      },
      "execution_count": 7,
      "outputs": [
        {
          "output_type": "stream",
          "name": "stdout",
          "text": [
            "One Hidden Layer\n",
            "Epoch 1/20\n",
            "\u001b[1m30/30\u001b[0m \u001b[32m━━━━━━━━━━━━━━━━━━━━\u001b[0m\u001b[37m\u001b[0m \u001b[1m4s\u001b[0m 103ms/step - accuracy: 0.7010 - loss: 0.5801 - val_accuracy: 0.8650 - val_loss: 0.3961\n",
            "Epoch 2/20\n",
            "\u001b[1m30/30\u001b[0m \u001b[32m━━━━━━━━━━━━━━━━━━━━\u001b[0m\u001b[37m\u001b[0m \u001b[1m1s\u001b[0m 36ms/step - accuracy: 0.8933 - loss: 0.3420 - val_accuracy: 0.8798 - val_loss: 0.3292\n",
            "Epoch 3/20\n",
            "\u001b[1m30/30\u001b[0m \u001b[32m━━━━━━━━━━━━━━━━━━━━\u001b[0m\u001b[37m\u001b[0m \u001b[1m1s\u001b[0m 37ms/step - accuracy: 0.9192 - loss: 0.2633 - val_accuracy: 0.8808 - val_loss: 0.3035\n",
            "Epoch 4/20\n",
            "\u001b[1m30/30\u001b[0m \u001b[32m━━━━━━━━━━━━━━━━━━━━\u001b[0m\u001b[37m\u001b[0m \u001b[1m1s\u001b[0m 48ms/step - accuracy: 0.9263 - loss: 0.2267 - val_accuracy: 0.8722 - val_loss: 0.3072\n",
            "Epoch 5/20\n",
            "\u001b[1m30/30\u001b[0m \u001b[32m━━━━━━━━━━━━━━━━━━━━\u001b[0m\u001b[37m\u001b[0m \u001b[1m1s\u001b[0m 36ms/step - accuracy: 0.9378 - loss: 0.1949 - val_accuracy: 0.8888 - val_loss: 0.2763\n",
            "Epoch 6/20\n",
            "\u001b[1m30/30\u001b[0m \u001b[32m━━━━━━━━━━━━━━━━━━━━\u001b[0m\u001b[37m\u001b[0m \u001b[1m1s\u001b[0m 35ms/step - accuracy: 0.9480 - loss: 0.1711 - val_accuracy: 0.8856 - val_loss: 0.2815\n",
            "Epoch 7/20\n",
            "\u001b[1m30/30\u001b[0m \u001b[32m━━━━━━━━━━━━━━━━━━━━\u001b[0m\u001b[37m\u001b[0m \u001b[1m1s\u001b[0m 37ms/step - accuracy: 0.9529 - loss: 0.1550 - val_accuracy: 0.8854 - val_loss: 0.2795\n",
            "Epoch 8/20\n",
            "\u001b[1m30/30\u001b[0m \u001b[32m━━━━━━━━━━━━━━━━━━━━\u001b[0m\u001b[37m\u001b[0m \u001b[1m1s\u001b[0m 37ms/step - accuracy: 0.9573 - loss: 0.1418 - val_accuracy: 0.8858 - val_loss: 0.2803\n",
            "Epoch 9/20\n",
            "\u001b[1m30/30\u001b[0m \u001b[32m━━━━━━━━━━━━━━━━━━━━\u001b[0m\u001b[37m\u001b[0m \u001b[1m2s\u001b[0m 48ms/step - accuracy: 0.9659 - loss: 0.1252 - val_accuracy: 0.8834 - val_loss: 0.2908\n",
            "Epoch 10/20\n",
            "\u001b[1m30/30\u001b[0m \u001b[32m━━━━━━━━━━━━━━━━━━━━\u001b[0m\u001b[37m\u001b[0m \u001b[1m2s\u001b[0m 62ms/step - accuracy: 0.9681 - loss: 0.1136 - val_accuracy: 0.8842 - val_loss: 0.2914\n",
            "Epoch 11/20\n",
            "\u001b[1m30/30\u001b[0m \u001b[32m━━━━━━━━━━━━━━━━━━━━\u001b[0m\u001b[37m\u001b[0m \u001b[1m2s\u001b[0m 42ms/step - accuracy: 0.9730 - loss: 0.1036 - val_accuracy: 0.8833 - val_loss: 0.2975\n",
            "Epoch 12/20\n",
            "\u001b[1m30/30\u001b[0m \u001b[32m━━━━━━━━━━━━━━━━━━━━\u001b[0m\u001b[37m\u001b[0m \u001b[1m1s\u001b[0m 43ms/step - accuracy: 0.9755 - loss: 0.0971 - val_accuracy: 0.8821 - val_loss: 0.3161\n",
            "Epoch 13/20\n",
            "\u001b[1m30/30\u001b[0m \u001b[32m━━━━━━━━━━━━━━━━━━━━\u001b[0m\u001b[37m\u001b[0m \u001b[1m1s\u001b[0m 42ms/step - accuracy: 0.9811 - loss: 0.0869 - val_accuracy: 0.8816 - val_loss: 0.3131\n",
            "Epoch 14/20\n",
            "\u001b[1m30/30\u001b[0m \u001b[32m━━━━━━━━━━━━━━━━━━━━\u001b[0m\u001b[37m\u001b[0m \u001b[1m1s\u001b[0m 41ms/step - accuracy: 0.9791 - loss: 0.0832 - val_accuracy: 0.8796 - val_loss: 0.3214\n",
            "Epoch 15/20\n",
            "\u001b[1m30/30\u001b[0m \u001b[32m━━━━━━━━━━━━━━━━━━━━\u001b[0m\u001b[37m\u001b[0m \u001b[1m1s\u001b[0m 40ms/step - accuracy: 0.9852 - loss: 0.0740 - val_accuracy: 0.8797 - val_loss: 0.3304\n",
            "Epoch 16/20\n",
            "\u001b[1m30/30\u001b[0m \u001b[32m━━━━━━━━━━━━━━━━━━━━\u001b[0m\u001b[37m\u001b[0m \u001b[1m1s\u001b[0m 42ms/step - accuracy: 0.9866 - loss: 0.0684 - val_accuracy: 0.8777 - val_loss: 0.3400\n",
            "Epoch 17/20\n",
            "\u001b[1m30/30\u001b[0m \u001b[32m━━━━━━━━━━━━━━━━━━━━\u001b[0m\u001b[37m\u001b[0m \u001b[1m1s\u001b[0m 37ms/step - accuracy: 0.9888 - loss: 0.0615 - val_accuracy: 0.8777 - val_loss: 0.3509\n",
            "Epoch 18/20\n",
            "\u001b[1m30/30\u001b[0m \u001b[32m━━━━━━━━━━━━━━━━━━━━\u001b[0m\u001b[37m\u001b[0m \u001b[1m2s\u001b[0m 48ms/step - accuracy: 0.9898 - loss: 0.0591 - val_accuracy: 0.8780 - val_loss: 0.3618\n",
            "Epoch 19/20\n",
            "\u001b[1m30/30\u001b[0m \u001b[32m━━━━━━━━━━━━━━━━━━━━\u001b[0m\u001b[37m\u001b[0m \u001b[1m2s\u001b[0m 53ms/step - accuracy: 0.9914 - loss: 0.0555 - val_accuracy: 0.8759 - val_loss: 0.3762\n",
            "Epoch 20/20\n",
            "\u001b[1m30/30\u001b[0m \u001b[32m━━━━━━━━━━━━━━━━━━━━\u001b[0m\u001b[37m\u001b[0m \u001b[1m1s\u001b[0m 43ms/step - accuracy: 0.9912 - loss: 0.0519 - val_accuracy: 0.8738 - val_loss: 0.3786\n"
          ]
        }
      ]
    },
    {
      "cell_type": "code",
      "source": [
        "print(\"Three Hidden Layers\")\n",
        "three_layer = model_variant(layer_config=[16, 16, 16])\n",
        "hist_three = three_layer.fit(partial_x_train, partial_y_train, epochs=20, batch_size=512,\n",
        "                             validation_data=(x_val, y_val), verbose=1)"
      ],
      "metadata": {
        "colab": {
          "base_uri": "https://localhost:8080/"
        },
        "id": "_cvDwrR7s5U2",
        "outputId": "6d677843-8073-40ac-d8a6-a8c1b2daf568"
      },
      "execution_count": 8,
      "outputs": [
        {
          "output_type": "stream",
          "name": "stdout",
          "text": [
            "Three Hidden Layers\n",
            "Epoch 1/20\n",
            "\u001b[1m30/30\u001b[0m \u001b[32m━━━━━━━━━━━━━━━━━━━━\u001b[0m\u001b[37m\u001b[0m \u001b[1m4s\u001b[0m 73ms/step - accuracy: 0.6463 - loss: 0.6366 - val_accuracy: 0.8012 - val_loss: 0.4629\n",
            "Epoch 2/20\n",
            "\u001b[1m30/30\u001b[0m \u001b[32m━━━━━━━━━━━━━━━━━━━━\u001b[0m\u001b[37m\u001b[0m \u001b[1m2s\u001b[0m 68ms/step - accuracy: 0.8818 - loss: 0.3687 - val_accuracy: 0.8826 - val_loss: 0.3189\n",
            "Epoch 3/20\n",
            "\u001b[1m30/30\u001b[0m \u001b[32m━━━━━━━━━━━━━━━━━━━━\u001b[0m\u001b[37m\u001b[0m \u001b[1m2s\u001b[0m 66ms/step - accuracy: 0.9189 - loss: 0.2505 - val_accuracy: 0.8717 - val_loss: 0.3093\n",
            "Epoch 4/20\n",
            "\u001b[1m30/30\u001b[0m \u001b[32m━━━━━━━━━━━━━━━━━━━━\u001b[0m\u001b[37m\u001b[0m \u001b[1m1s\u001b[0m 41ms/step - accuracy: 0.9328 - loss: 0.1973 - val_accuracy: 0.8880 - val_loss: 0.2809\n",
            "Epoch 5/20\n",
            "\u001b[1m30/30\u001b[0m \u001b[32m━━━━━━━━━━━━━━━━━━━━\u001b[0m\u001b[37m\u001b[0m \u001b[1m1s\u001b[0m 39ms/step - accuracy: 0.9520 - loss: 0.1534 - val_accuracy: 0.8871 - val_loss: 0.2794\n",
            "Epoch 6/20\n",
            "\u001b[1m30/30\u001b[0m \u001b[32m━━━━━━━━━━━━━━━━━━━━\u001b[0m\u001b[37m\u001b[0m \u001b[1m1s\u001b[0m 42ms/step - accuracy: 0.9617 - loss: 0.1264 - val_accuracy: 0.8868 - val_loss: 0.2975\n",
            "Epoch 7/20\n",
            "\u001b[1m30/30\u001b[0m \u001b[32m━━━━━━━━━━━━━━━━━━━━\u001b[0m\u001b[37m\u001b[0m \u001b[1m1s\u001b[0m 39ms/step - accuracy: 0.9697 - loss: 0.1029 - val_accuracy: 0.8694 - val_loss: 0.3725\n",
            "Epoch 8/20\n",
            "\u001b[1m30/30\u001b[0m \u001b[32m━━━━━━━━━━━━━━━━━━━━\u001b[0m\u001b[37m\u001b[0m \u001b[1m1s\u001b[0m 35ms/step - accuracy: 0.9745 - loss: 0.0867 - val_accuracy: 0.8765 - val_loss: 0.3409\n",
            "Epoch 9/20\n",
            "\u001b[1m30/30\u001b[0m \u001b[32m━━━━━━━━━━━━━━━━━━━━\u001b[0m\u001b[37m\u001b[0m \u001b[1m1s\u001b[0m 36ms/step - accuracy: 0.9816 - loss: 0.0727 - val_accuracy: 0.8763 - val_loss: 0.3544\n",
            "Epoch 10/20\n",
            "\u001b[1m30/30\u001b[0m \u001b[32m━━━━━━━━━━━━━━━━━━━━\u001b[0m\u001b[37m\u001b[0m \u001b[1m1s\u001b[0m 37ms/step - accuracy: 0.9870 - loss: 0.0574 - val_accuracy: 0.8795 - val_loss: 0.3899\n",
            "Epoch 11/20\n",
            "\u001b[1m30/30\u001b[0m \u001b[32m━━━━━━━━━━━━━━━━━━━━\u001b[0m\u001b[37m\u001b[0m \u001b[1m1s\u001b[0m 36ms/step - accuracy: 0.9887 - loss: 0.0482 - val_accuracy: 0.8687 - val_loss: 0.4266\n",
            "Epoch 12/20\n",
            "\u001b[1m30/30\u001b[0m \u001b[32m━━━━━━━━━━━━━━━━━━━━\u001b[0m\u001b[37m\u001b[0m \u001b[1m1s\u001b[0m 41ms/step - accuracy: 0.9914 - loss: 0.0367 - val_accuracy: 0.8753 - val_loss: 0.4238\n",
            "Epoch 13/20\n",
            "\u001b[1m30/30\u001b[0m \u001b[32m━━━━━━━━━━━━━━━━━━━━\u001b[0m\u001b[37m\u001b[0m \u001b[1m2s\u001b[0m 61ms/step - accuracy: 0.9909 - loss: 0.0363 - val_accuracy: 0.8767 - val_loss: 0.4485\n",
            "Epoch 14/20\n",
            "\u001b[1m30/30\u001b[0m \u001b[32m━━━━━━━━━━━━━━━━━━━━\u001b[0m\u001b[37m\u001b[0m \u001b[1m1s\u001b[0m 47ms/step - accuracy: 0.9962 - loss: 0.0249 - val_accuracy: 0.8728 - val_loss: 0.4793\n",
            "Epoch 15/20\n",
            "\u001b[1m30/30\u001b[0m \u001b[32m━━━━━━━━━━━━━━━━━━━━\u001b[0m\u001b[37m\u001b[0m \u001b[1m1s\u001b[0m 37ms/step - accuracy: 0.9952 - loss: 0.0218 - val_accuracy: 0.8751 - val_loss: 0.4989\n",
            "Epoch 16/20\n",
            "\u001b[1m30/30\u001b[0m \u001b[32m━━━━━━━━━━━━━━━━━━━━\u001b[0m\u001b[37m\u001b[0m \u001b[1m1s\u001b[0m 37ms/step - accuracy: 0.9978 - loss: 0.0152 - val_accuracy: 0.8745 - val_loss: 0.5262\n",
            "Epoch 17/20\n",
            "\u001b[1m30/30\u001b[0m \u001b[32m━━━━━━━━━━━━━━━━━━━━\u001b[0m\u001b[37m\u001b[0m \u001b[1m1s\u001b[0m 37ms/step - accuracy: 0.9988 - loss: 0.0102 - val_accuracy: 0.8726 - val_loss: 0.5622\n",
            "Epoch 18/20\n",
            "\u001b[1m30/30\u001b[0m \u001b[32m━━━━━━━━━━━━━━━━━━━━\u001b[0m\u001b[37m\u001b[0m \u001b[1m1s\u001b[0m 36ms/step - accuracy: 0.9998 - loss: 0.0066 - val_accuracy: 0.8716 - val_loss: 0.5785\n",
            "Epoch 19/20\n",
            "\u001b[1m30/30\u001b[0m \u001b[32m━━━━━━━━━━━━━━━━━━━━\u001b[0m\u001b[37m\u001b[0m \u001b[1m1s\u001b[0m 36ms/step - accuracy: 0.9971 - loss: 0.0115 - val_accuracy: 0.8726 - val_loss: 0.6025\n",
            "Epoch 20/20\n",
            "\u001b[1m30/30\u001b[0m \u001b[32m━━━━━━━━━━━━━━━━━━━━\u001b[0m\u001b[37m\u001b[0m \u001b[1m1s\u001b[0m 35ms/step - accuracy: 0.9996 - loss: 0.0047 - val_accuracy: 0.8719 - val_loss: 0.6269\n"
          ]
        }
      ]
    },
    {
      "cell_type": "code",
      "source": [
        "# 2️ Change hidden units\n",
        "print(\"32 Hidden Units\")\n",
        "model_32 = model_variant(layer_config=[32, 32])\n",
        "hist_32 = model_32.fit(partial_x_train, partial_y_train, epochs=20, batch_size=512,\n",
        "                       validation_data=(x_val, y_val), verbose=1)"
      ],
      "metadata": {
        "colab": {
          "base_uri": "https://localhost:8080/"
        },
        "id": "ksr8tRWjs6wF",
        "outputId": "f21b63ff-178d-4384-e8a5-baa9a6042310"
      },
      "execution_count": 9,
      "outputs": [
        {
          "output_type": "stream",
          "name": "stdout",
          "text": [
            "32 Hidden Units\n",
            "Epoch 1/20\n",
            "\u001b[1m30/30\u001b[0m \u001b[32m━━━━━━━━━━━━━━━━━━━━\u001b[0m\u001b[37m\u001b[0m \u001b[1m4s\u001b[0m 100ms/step - accuracy: 0.7059 - loss: 0.5802 - val_accuracy: 0.8520 - val_loss: 0.3851\n",
            "Epoch 2/20\n",
            "\u001b[1m30/30\u001b[0m \u001b[32m━━━━━━━━━━━━━━━━━━━━\u001b[0m\u001b[37m\u001b[0m \u001b[1m2s\u001b[0m 54ms/step - accuracy: 0.8860 - loss: 0.3176 - val_accuracy: 0.8874 - val_loss: 0.2915\n",
            "Epoch 3/20\n",
            "\u001b[1m30/30\u001b[0m \u001b[32m━━━━━━━━━━━━━━━━━━━━\u001b[0m\u001b[37m\u001b[0m \u001b[1m1s\u001b[0m 40ms/step - accuracy: 0.9295 - loss: 0.2182 - val_accuracy: 0.8874 - val_loss: 0.2758\n",
            "Epoch 4/20\n",
            "\u001b[1m30/30\u001b[0m \u001b[32m━━━━━━━━━━━━━━━━━━━━\u001b[0m\u001b[37m\u001b[0m \u001b[1m1s\u001b[0m 42ms/step - accuracy: 0.9443 - loss: 0.1731 - val_accuracy: 0.8806 - val_loss: 0.2939\n",
            "Epoch 5/20\n",
            "\u001b[1m30/30\u001b[0m \u001b[32m━━━━━━━━━━━━━━━━━━━━\u001b[0m\u001b[37m\u001b[0m \u001b[1m2s\u001b[0m 52ms/step - accuracy: 0.9518 - loss: 0.1437 - val_accuracy: 0.8829 - val_loss: 0.2946\n",
            "Epoch 6/20\n",
            "\u001b[1m30/30\u001b[0m \u001b[32m━━━━━━━━━━━━━━━━━━━━\u001b[0m\u001b[37m\u001b[0m \u001b[1m1s\u001b[0m 42ms/step - accuracy: 0.9628 - loss: 0.1188 - val_accuracy: 0.8836 - val_loss: 0.2989\n",
            "Epoch 7/20\n",
            "\u001b[1m30/30\u001b[0m \u001b[32m━━━━━━━━━━━━━━━━━━━━\u001b[0m\u001b[37m\u001b[0m \u001b[1m1s\u001b[0m 43ms/step - accuracy: 0.9716 - loss: 0.0954 - val_accuracy: 0.8636 - val_loss: 0.3755\n",
            "Epoch 8/20\n",
            "\u001b[1m30/30\u001b[0m \u001b[32m━━━━━━━━━━━━━━━━━━━━\u001b[0m\u001b[37m\u001b[0m \u001b[1m2s\u001b[0m 54ms/step - accuracy: 0.9757 - loss: 0.0815 - val_accuracy: 0.8782 - val_loss: 0.3389\n",
            "Epoch 9/20\n",
            "\u001b[1m30/30\u001b[0m \u001b[32m━━━━━━━━━━━━━━━━━━━━\u001b[0m\u001b[37m\u001b[0m \u001b[1m2s\u001b[0m 68ms/step - accuracy: 0.9774 - loss: 0.0732 - val_accuracy: 0.8770 - val_loss: 0.3786\n",
            "Epoch 10/20\n",
            "\u001b[1m30/30\u001b[0m \u001b[32m━━━━━━━━━━━━━━━━━━━━\u001b[0m\u001b[37m\u001b[0m \u001b[1m1s\u001b[0m 47ms/step - accuracy: 0.9848 - loss: 0.0580 - val_accuracy: 0.8767 - val_loss: 0.3959\n",
            "Epoch 11/20\n",
            "\u001b[1m30/30\u001b[0m \u001b[32m━━━━━━━━━━━━━━━━━━━━\u001b[0m\u001b[37m\u001b[0m \u001b[1m1s\u001b[0m 42ms/step - accuracy: 0.9887 - loss: 0.0486 - val_accuracy: 0.8769 - val_loss: 0.3990\n",
            "Epoch 12/20\n",
            "\u001b[1m30/30\u001b[0m \u001b[32m━━━━━━━━━━━━━━━━━━━━\u001b[0m\u001b[37m\u001b[0m \u001b[1m1s\u001b[0m 42ms/step - accuracy: 0.9947 - loss: 0.0328 - val_accuracy: 0.8767 - val_loss: 0.4233\n",
            "Epoch 13/20\n",
            "\u001b[1m30/30\u001b[0m \u001b[32m━━━━━━━━━━━━━━━━━━━━\u001b[0m\u001b[37m\u001b[0m \u001b[1m1s\u001b[0m 48ms/step - accuracy: 0.9964 - loss: 0.0266 - val_accuracy: 0.8763 - val_loss: 0.4485\n",
            "Epoch 14/20\n",
            "\u001b[1m30/30\u001b[0m \u001b[32m━━━━━━━━━━━━━━━━━━━━\u001b[0m\u001b[37m\u001b[0m \u001b[1m1s\u001b[0m 42ms/step - accuracy: 0.9966 - loss: 0.0230 - val_accuracy: 0.8759 - val_loss: 0.4674\n",
            "Epoch 15/20\n",
            "\u001b[1m30/30\u001b[0m \u001b[32m━━━━━━━━━━━━━━━━━━━━\u001b[0m\u001b[37m\u001b[0m \u001b[1m3s\u001b[0m 44ms/step - accuracy: 0.9987 - loss: 0.0163 - val_accuracy: 0.8752 - val_loss: 0.4961\n",
            "Epoch 16/20\n",
            "\u001b[1m30/30\u001b[0m \u001b[32m━━━━━━━━━━━━━━━━━━━━\u001b[0m\u001b[37m\u001b[0m \u001b[1m2s\u001b[0m 54ms/step - accuracy: 0.9954 - loss: 0.0236 - val_accuracy: 0.8740 - val_loss: 0.5109\n",
            "Epoch 17/20\n",
            "\u001b[1m30/30\u001b[0m \u001b[32m━━━━━━━━━━━━━━━━━━━━\u001b[0m\u001b[37m\u001b[0m \u001b[1m3s\u001b[0m 53ms/step - accuracy: 0.9972 - loss: 0.0156 - val_accuracy: 0.8740 - val_loss: 0.5313\n",
            "Epoch 18/20\n",
            "\u001b[1m30/30\u001b[0m \u001b[32m━━━━━━━━━━━━━━━━━━━━\u001b[0m\u001b[37m\u001b[0m \u001b[1m1s\u001b[0m 42ms/step - accuracy: 0.9997 - loss: 0.0084 - val_accuracy: 0.8743 - val_loss: 0.5591\n",
            "Epoch 19/20\n",
            "\u001b[1m30/30\u001b[0m \u001b[32m━━━━━━━━━━━━━━━━━━━━\u001b[0m\u001b[37m\u001b[0m \u001b[1m1s\u001b[0m 45ms/step - accuracy: 0.9946 - loss: 0.0191 - val_accuracy: 0.8726 - val_loss: 0.5787\n",
            "Epoch 20/20\n",
            "\u001b[1m30/30\u001b[0m \u001b[32m━━━━━━━━━━━━━━━━━━━━\u001b[0m\u001b[37m\u001b[0m \u001b[1m1s\u001b[0m 45ms/step - accuracy: 0.9996 - loss: 0.0062 - val_accuracy: 0.8636 - val_loss: 0.6315\n"
          ]
        }
      ]
    },
    {
      "cell_type": "code",
      "source": [
        "print(\"64 Hidden Units\")\n",
        "model_64 = model_variant(layer_config=[64, 64])\n",
        "hist_64 = model_64.fit(partial_x_train, partial_y_train, epochs=20, batch_size=512,\n",
        "                       validation_data=(x_val, y_val), verbose=1)"
      ],
      "metadata": {
        "colab": {
          "base_uri": "https://localhost:8080/"
        },
        "id": "7i81jcm8s-Z_",
        "outputId": "ce2caa4b-1050-421f-dd5d-ba6c3aca2aa7"
      },
      "execution_count": 10,
      "outputs": [
        {
          "output_type": "stream",
          "name": "stdout",
          "text": [
            "64 Hidden Units\n",
            "Epoch 1/20\n",
            "\u001b[1m30/30\u001b[0m \u001b[32m━━━━━━━━━━━━━━━━━━━━\u001b[0m\u001b[37m\u001b[0m \u001b[1m4s\u001b[0m 88ms/step - accuracy: 0.6745 - loss: 0.5845 - val_accuracy: 0.8683 - val_loss: 0.3453\n",
            "Epoch 2/20\n",
            "\u001b[1m30/30\u001b[0m \u001b[32m━━━━━━━━━━━━━━━━━━━━\u001b[0m\u001b[37m\u001b[0m \u001b[1m3s\u001b[0m 103ms/step - accuracy: 0.8897 - loss: 0.2933 - val_accuracy: 0.8542 - val_loss: 0.3424\n",
            "Epoch 3/20\n",
            "\u001b[1m30/30\u001b[0m \u001b[32m━━━━━━━━━━━━━━━━━━━━\u001b[0m\u001b[37m\u001b[0m \u001b[1m2s\u001b[0m 67ms/step - accuracy: 0.9206 - loss: 0.2166 - val_accuracy: 0.8880 - val_loss: 0.2811\n",
            "Epoch 4/20\n",
            "\u001b[1m30/30\u001b[0m \u001b[32m━━━━━━━━━━━━━━━━━━━━\u001b[0m\u001b[37m\u001b[0m \u001b[1m2s\u001b[0m 60ms/step - accuracy: 0.9351 - loss: 0.1791 - val_accuracy: 0.8865 - val_loss: 0.2839\n",
            "Epoch 5/20\n",
            "\u001b[1m30/30\u001b[0m \u001b[32m━━━━━━━━━━━━━━━━━━━━\u001b[0m\u001b[37m\u001b[0m \u001b[1m3s\u001b[0m 61ms/step - accuracy: 0.9527 - loss: 0.1325 - val_accuracy: 0.8717 - val_loss: 0.3382\n",
            "Epoch 6/20\n",
            "\u001b[1m30/30\u001b[0m \u001b[32m━━━━━━━━━━━━━━━━━━━━\u001b[0m\u001b[37m\u001b[0m \u001b[1m2s\u001b[0m 62ms/step - accuracy: 0.9644 - loss: 0.1072 - val_accuracy: 0.8668 - val_loss: 0.3634\n",
            "Epoch 7/20\n",
            "\u001b[1m30/30\u001b[0m \u001b[32m━━━━━━━━━━━━━━━━━━━━\u001b[0m\u001b[37m\u001b[0m \u001b[1m2s\u001b[0m 80ms/step - accuracy: 0.9709 - loss: 0.0896 - val_accuracy: 0.8836 - val_loss: 0.3327\n",
            "Epoch 8/20\n",
            "\u001b[1m30/30\u001b[0m \u001b[32m━━━━━━━━━━━━━━━━━━━━\u001b[0m\u001b[37m\u001b[0m \u001b[1m3s\u001b[0m 80ms/step - accuracy: 0.9826 - loss: 0.0619 - val_accuracy: 0.8818 - val_loss: 0.3626\n",
            "Epoch 9/20\n",
            "\u001b[1m30/30\u001b[0m \u001b[32m━━━━━━━━━━━━━━━━━━━━\u001b[0m\u001b[37m\u001b[0m \u001b[1m2s\u001b[0m 67ms/step - accuracy: 0.9852 - loss: 0.0484 - val_accuracy: 0.8794 - val_loss: 0.3879\n",
            "Epoch 10/20\n",
            "\u001b[1m30/30\u001b[0m \u001b[32m━━━━━━━━━━━━━━━━━━━━\u001b[0m\u001b[37m\u001b[0m \u001b[1m2s\u001b[0m 65ms/step - accuracy: 0.9905 - loss: 0.0395 - val_accuracy: 0.8794 - val_loss: 0.4040\n",
            "Epoch 11/20\n",
            "\u001b[1m30/30\u001b[0m \u001b[32m━━━━━━━━━━━━━━━━━━━━\u001b[0m\u001b[37m\u001b[0m \u001b[1m3s\u001b[0m 69ms/step - accuracy: 0.9984 - loss: 0.0168 - val_accuracy: 0.7823 - val_loss: 1.0415\n",
            "Epoch 12/20\n",
            "\u001b[1m30/30\u001b[0m \u001b[32m━━━━━━━━━━━━━━━━━━━━\u001b[0m\u001b[37m\u001b[0m \u001b[1m2s\u001b[0m 69ms/step - accuracy: 0.9683 - loss: 0.0886 - val_accuracy: 0.8790 - val_loss: 0.4650\n",
            "Epoch 13/20\n",
            "\u001b[1m30/30\u001b[0m \u001b[32m━━━━━━━━━━━━━━━━━━━━\u001b[0m\u001b[37m\u001b[0m \u001b[1m3s\u001b[0m 117ms/step - accuracy: 0.9929 - loss: 0.0282 - val_accuracy: 0.8791 - val_loss: 0.4631\n",
            "Epoch 14/20\n",
            "\u001b[1m30/30\u001b[0m \u001b[32m━━━━━━━━━━━━━━━━━━━━\u001b[0m\u001b[37m\u001b[0m \u001b[1m4s\u001b[0m 67ms/step - accuracy: 0.9999 - loss: 0.0070 - val_accuracy: 0.8776 - val_loss: 0.5056\n",
            "Epoch 15/20\n",
            "\u001b[1m30/30\u001b[0m \u001b[32m━━━━━━━━━━━━━━━━━━━━\u001b[0m\u001b[37m\u001b[0m \u001b[1m2s\u001b[0m 67ms/step - accuracy: 0.9937 - loss: 0.0299 - val_accuracy: 0.8780 - val_loss: 0.4992\n",
            "Epoch 16/20\n",
            "\u001b[1m30/30\u001b[0m \u001b[32m━━━━━━━━━━━━━━━━━━━━\u001b[0m\u001b[37m\u001b[0m \u001b[1m2s\u001b[0m 64ms/step - accuracy: 1.0000 - loss: 0.0043 - val_accuracy: 0.8772 - val_loss: 0.5382\n",
            "Epoch 17/20\n",
            "\u001b[1m30/30\u001b[0m \u001b[32m━━━━━━━━━━━━━━━━━━━━\u001b[0m\u001b[37m\u001b[0m \u001b[1m3s\u001b[0m 90ms/step - accuracy: 0.9981 - loss: 0.0087 - val_accuracy: 0.8756 - val_loss: 0.5303\n",
            "Epoch 18/20\n",
            "\u001b[1m30/30\u001b[0m \u001b[32m━━━━━━━━━━━━━━━━━━━━\u001b[0m\u001b[37m\u001b[0m \u001b[1m2s\u001b[0m 75ms/step - accuracy: 0.9997 - loss: 0.0036 - val_accuracy: 0.8754 - val_loss: 0.5582\n",
            "Epoch 19/20\n",
            "\u001b[1m30/30\u001b[0m \u001b[32m━━━━━━━━━━━━━━━━━━━━\u001b[0m\u001b[37m\u001b[0m \u001b[1m2s\u001b[0m 63ms/step - accuracy: 1.0000 - loss: 0.0023 - val_accuracy: 0.8758 - val_loss: 0.5982\n",
            "Epoch 20/20\n",
            "\u001b[1m30/30\u001b[0m \u001b[32m━━━━━━━━━━━━━━━━━━━━\u001b[0m\u001b[37m\u001b[0m \u001b[1m2s\u001b[0m 66ms/step - accuracy: 0.9977 - loss: 0.0097 - val_accuracy: 0.8724 - val_loss: 0.5978\n"
          ]
        }
      ]
    },
    {
      "cell_type": "code",
      "source": [
        "# 3️ Change loss function\n",
        "print(\"MSE Loss\")\n",
        "mse_model = model_variant(loss_fn=\"mse\")\n",
        "hist_mse = mse_model.fit(partial_x_train, partial_y_train, epochs=20, batch_size=512,\n",
        "                         validation_data=(x_val, y_val), verbose=1)"
      ],
      "metadata": {
        "id": "cELZuBaAtBSN",
        "colab": {
          "base_uri": "https://localhost:8080/"
        },
        "outputId": "30e2fa89-1f4e-485c-fd44-c3ca9d0b5bf6"
      },
      "execution_count": 11,
      "outputs": [
        {
          "output_type": "stream",
          "name": "stdout",
          "text": [
            "MSE Loss\n",
            "Epoch 1/20\n",
            "\u001b[1m30/30\u001b[0m \u001b[32m━━━━━━━━━━━━━━━━━━━━\u001b[0m\u001b[37m\u001b[0m \u001b[1m3s\u001b[0m 77ms/step - accuracy: 0.6807 - loss: 0.2166 - val_accuracy: 0.8442 - val_loss: 0.1402\n",
            "Epoch 2/20\n",
            "\u001b[1m30/30\u001b[0m \u001b[32m━━━━━━━━━━━━━━━━━━━━\u001b[0m\u001b[37m\u001b[0m \u001b[1m2s\u001b[0m 55ms/step - accuracy: 0.8814 - loss: 0.1184 - val_accuracy: 0.8750 - val_loss: 0.1049\n",
            "Epoch 3/20\n",
            "\u001b[1m30/30\u001b[0m \u001b[32m━━━━━━━━━━━━━━━━━━━━\u001b[0m\u001b[37m\u001b[0m \u001b[1m1s\u001b[0m 44ms/step - accuracy: 0.9058 - loss: 0.0865 - val_accuracy: 0.8818 - val_loss: 0.0946\n",
            "Epoch 4/20\n",
            "\u001b[1m30/30\u001b[0m \u001b[32m━━━━━━━━━━━━━━━━━━━━\u001b[0m\u001b[37m\u001b[0m \u001b[1m1s\u001b[0m 38ms/step - accuracy: 0.9237 - loss: 0.0706 - val_accuracy: 0.8860 - val_loss: 0.0886\n",
            "Epoch 5/20\n",
            "\u001b[1m30/30\u001b[0m \u001b[32m━━━━━━━━━━━━━━━━━━━━\u001b[0m\u001b[37m\u001b[0m \u001b[1m1s\u001b[0m 36ms/step - accuracy: 0.9367 - loss: 0.0584 - val_accuracy: 0.8870 - val_loss: 0.0846\n",
            "Epoch 6/20\n",
            "\u001b[1m30/30\u001b[0m \u001b[32m━━━━━━━━━━━━━━━━━━━━\u001b[0m\u001b[37m\u001b[0m \u001b[1m1s\u001b[0m 35ms/step - accuracy: 0.9450 - loss: 0.0503 - val_accuracy: 0.8682 - val_loss: 0.0981\n",
            "Epoch 7/20\n",
            "\u001b[1m30/30\u001b[0m \u001b[32m━━━━━━━━━━━━━━━━━━━━\u001b[0m\u001b[37m\u001b[0m \u001b[1m1s\u001b[0m 35ms/step - accuracy: 0.9516 - loss: 0.0450 - val_accuracy: 0.8829 - val_loss: 0.0836\n",
            "Epoch 8/20\n",
            "\u001b[1m30/30\u001b[0m \u001b[32m━━━━━━━━━━━━━━━━━━━━\u001b[0m\u001b[37m\u001b[0m \u001b[1m1s\u001b[0m 37ms/step - accuracy: 0.9626 - loss: 0.0387 - val_accuracy: 0.8853 - val_loss: 0.0849\n",
            "Epoch 9/20\n",
            "\u001b[1m30/30\u001b[0m \u001b[32m━━━━━━━━━━━━━━━━━━━━\u001b[0m\u001b[37m\u001b[0m \u001b[1m1s\u001b[0m 37ms/step - accuracy: 0.9636 - loss: 0.0358 - val_accuracy: 0.8833 - val_loss: 0.0849\n",
            "Epoch 10/20\n",
            "\u001b[1m30/30\u001b[0m \u001b[32m━━━━━━━━━━━━━━━━━━━━\u001b[0m\u001b[37m\u001b[0m \u001b[1m1s\u001b[0m 34ms/step - accuracy: 0.9718 - loss: 0.0304 - val_accuracy: 0.8826 - val_loss: 0.0858\n",
            "Epoch 11/20\n",
            "\u001b[1m30/30\u001b[0m \u001b[32m━━━━━━━━━━━━━━━━━━━━\u001b[0m\u001b[37m\u001b[0m \u001b[1m1s\u001b[0m 36ms/step - accuracy: 0.9758 - loss: 0.0279 - val_accuracy: 0.8796 - val_loss: 0.0908\n",
            "Epoch 12/20\n",
            "\u001b[1m30/30\u001b[0m \u001b[32m━━━━━━━━━━━━━━━━━━━━\u001b[0m\u001b[37m\u001b[0m \u001b[1m1s\u001b[0m 48ms/step - accuracy: 0.9761 - loss: 0.0265 - val_accuracy: 0.8785 - val_loss: 0.0907\n",
            "Epoch 13/20\n",
            "\u001b[1m30/30\u001b[0m \u001b[32m━━━━━━━━━━━━━━━━━━━━\u001b[0m\u001b[37m\u001b[0m \u001b[1m2s\u001b[0m 51ms/step - accuracy: 0.9790 - loss: 0.0247 - val_accuracy: 0.8742 - val_loss: 0.0919\n",
            "Epoch 14/20\n",
            "\u001b[1m30/30\u001b[0m \u001b[32m━━━━━━━━━━━━━━━━━━━━\u001b[0m\u001b[37m\u001b[0m \u001b[1m2s\u001b[0m 37ms/step - accuracy: 0.9835 - loss: 0.0205 - val_accuracy: 0.8615 - val_loss: 0.1031\n",
            "Epoch 15/20\n",
            "\u001b[1m30/30\u001b[0m \u001b[32m━━━━━━━━━━━━━━━━━━━━\u001b[0m\u001b[37m\u001b[0m \u001b[1m1s\u001b[0m 37ms/step - accuracy: 0.9854 - loss: 0.0186 - val_accuracy: 0.8780 - val_loss: 0.0916\n",
            "Epoch 16/20\n",
            "\u001b[1m30/30\u001b[0m \u001b[32m━━━━━━━━━━━━━━━━━━━━\u001b[0m\u001b[37m\u001b[0m \u001b[1m1s\u001b[0m 39ms/step - accuracy: 0.9883 - loss: 0.0163 - val_accuracy: 0.8780 - val_loss: 0.0927\n",
            "Epoch 17/20\n",
            "\u001b[1m30/30\u001b[0m \u001b[32m━━━━━━━━━━━━━━━━━━━━\u001b[0m\u001b[37m\u001b[0m \u001b[1m1s\u001b[0m 37ms/step - accuracy: 0.9897 - loss: 0.0150 - val_accuracy: 0.8744 - val_loss: 0.0942\n",
            "Epoch 18/20\n",
            "\u001b[1m30/30\u001b[0m \u001b[32m━━━━━━━━━━━━━━━━━━━━\u001b[0m\u001b[37m\u001b[0m \u001b[1m1s\u001b[0m 37ms/step - accuracy: 0.9868 - loss: 0.0158 - val_accuracy: 0.8716 - val_loss: 0.0961\n",
            "Epoch 19/20\n",
            "\u001b[1m30/30\u001b[0m \u001b[32m━━━━━━━━━━━━━━━━━━━━\u001b[0m\u001b[37m\u001b[0m \u001b[1m1s\u001b[0m 35ms/step - accuracy: 0.9893 - loss: 0.0135 - val_accuracy: 0.8743 - val_loss: 0.0962\n",
            "Epoch 20/20\n",
            "\u001b[1m30/30\u001b[0m \u001b[32m━━━━━━━━━━━━━━━━━━━━\u001b[0m\u001b[37m\u001b[0m \u001b[1m1s\u001b[0m 37ms/step - accuracy: 0.9910 - loss: 0.0119 - val_accuracy: 0.8551 - val_loss: 0.1153\n"
          ]
        }
      ]
    },
    {
      "cell_type": "code",
      "source": [
        "# 4️ Change activation to tanh\n",
        "print(\"tanh Activation\")\n",
        "tanh_model = model_variant(activation_fn=\"tanh\")\n",
        "hist_tanh = tanh_model.fit(partial_x_train, partial_y_train, epochs=20, batch_size=512,\n",
        "                           validation_data=(x_val, y_val), verbose=1)"
      ],
      "metadata": {
        "id": "xzfNPirXtDGp",
        "colab": {
          "base_uri": "https://localhost:8080/"
        },
        "outputId": "6e163140-f23e-4fe9-da95-89a5de981c31"
      },
      "execution_count": 12,
      "outputs": [
        {
          "output_type": "stream",
          "name": "stdout",
          "text": [
            "tanh Activation\n",
            "Epoch 1/20\n",
            "\u001b[1m30/30\u001b[0m \u001b[32m━━━━━━━━━━━━━━━━━━━━\u001b[0m\u001b[37m\u001b[0m \u001b[1m4s\u001b[0m 76ms/step - accuracy: 0.7048 - loss: 0.5664 - val_accuracy: 0.8655 - val_loss: 0.3648\n",
            "Epoch 2/20\n",
            "\u001b[1m30/30\u001b[0m \u001b[32m━━━━━━━━━━━━━━━━━━━━\u001b[0m\u001b[37m\u001b[0m \u001b[1m1s\u001b[0m 36ms/step - accuracy: 0.8998 - loss: 0.2980 - val_accuracy: 0.8769 - val_loss: 0.3028\n",
            "Epoch 3/20\n",
            "\u001b[1m30/30\u001b[0m \u001b[32m━━━━━━━━━━━━━━━━━━━━\u001b[0m\u001b[37m\u001b[0m \u001b[1m1s\u001b[0m 36ms/step - accuracy: 0.9295 - loss: 0.2090 - val_accuracy: 0.8799 - val_loss: 0.2902\n",
            "Epoch 4/20\n",
            "\u001b[1m30/30\u001b[0m \u001b[32m━━━━━━━━━━━━━━━━━━━━\u001b[0m\u001b[37m\u001b[0m \u001b[1m1s\u001b[0m 35ms/step - accuracy: 0.9445 - loss: 0.1640 - val_accuracy: 0.8819 - val_loss: 0.2997\n",
            "Epoch 5/20\n",
            "\u001b[1m30/30\u001b[0m \u001b[32m━━━━━━━━━━━━━━━━━━━━\u001b[0m\u001b[37m\u001b[0m \u001b[1m1s\u001b[0m 34ms/step - accuracy: 0.9544 - loss: 0.1375 - val_accuracy: 0.8808 - val_loss: 0.3019\n",
            "Epoch 6/20\n",
            "\u001b[1m30/30\u001b[0m \u001b[32m━━━━━━━━━━━━━━━━━━━━\u001b[0m\u001b[37m\u001b[0m \u001b[1m1s\u001b[0m 35ms/step - accuracy: 0.9708 - loss: 0.0928 - val_accuracy: 0.8676 - val_loss: 0.3878\n",
            "Epoch 7/20\n",
            "\u001b[1m30/30\u001b[0m \u001b[32m━━━━━━━━━━━━━━━━━━━━\u001b[0m\u001b[37m\u001b[0m \u001b[1m1s\u001b[0m 35ms/step - accuracy: 0.9742 - loss: 0.0866 - val_accuracy: 0.8780 - val_loss: 0.3534\n",
            "Epoch 8/20\n",
            "\u001b[1m30/30\u001b[0m \u001b[32m━━━━━━━━━━━━━━━━━━━━\u001b[0m\u001b[37m\u001b[0m \u001b[1m1s\u001b[0m 36ms/step - accuracy: 0.9853 - loss: 0.0598 - val_accuracy: 0.8675 - val_loss: 0.4178\n",
            "Epoch 9/20\n",
            "\u001b[1m30/30\u001b[0m \u001b[32m━━━━━━━━━━━━━━━━━━━━\u001b[0m\u001b[37m\u001b[0m \u001b[1m2s\u001b[0m 44ms/step - accuracy: 0.9845 - loss: 0.0548 - val_accuracy: 0.8746 - val_loss: 0.4229\n",
            "Epoch 10/20\n",
            "\u001b[1m30/30\u001b[0m \u001b[32m━━━━━━━━━━━━━━━━━━━━\u001b[0m\u001b[37m\u001b[0m \u001b[1m2s\u001b[0m 54ms/step - accuracy: 0.9885 - loss: 0.0411 - val_accuracy: 0.8710 - val_loss: 0.4667\n",
            "Epoch 11/20\n",
            "\u001b[1m30/30\u001b[0m \u001b[32m━━━━━━━━━━━━━━━━━━━━\u001b[0m\u001b[37m\u001b[0m \u001b[1m1s\u001b[0m 40ms/step - accuracy: 0.9917 - loss: 0.0324 - val_accuracy: 0.8699 - val_loss: 0.4993\n",
            "Epoch 12/20\n",
            "\u001b[1m30/30\u001b[0m \u001b[32m━━━━━━━━━━━━━━━━━━━━\u001b[0m\u001b[37m\u001b[0m \u001b[1m1s\u001b[0m 37ms/step - accuracy: 0.9917 - loss: 0.0317 - val_accuracy: 0.8599 - val_loss: 0.5984\n",
            "Epoch 13/20\n",
            "\u001b[1m30/30\u001b[0m \u001b[32m━━━━━━━━━━━━━━━━━━━━\u001b[0m\u001b[37m\u001b[0m \u001b[1m1s\u001b[0m 38ms/step - accuracy: 0.9922 - loss: 0.0288 - val_accuracy: 0.8664 - val_loss: 0.5567\n",
            "Epoch 14/20\n",
            "\u001b[1m30/30\u001b[0m \u001b[32m━━━━━━━━━━━━━━━━━━━━\u001b[0m\u001b[37m\u001b[0m \u001b[1m1s\u001b[0m 35ms/step - accuracy: 0.9973 - loss: 0.0138 - val_accuracy: 0.8659 - val_loss: 0.5789\n",
            "Epoch 15/20\n",
            "\u001b[1m30/30\u001b[0m \u001b[32m━━━━━━━━━━━━━━━━━━━━\u001b[0m\u001b[37m\u001b[0m \u001b[1m1s\u001b[0m 35ms/step - accuracy: 0.9995 - loss: 0.0076 - val_accuracy: 0.8650 - val_loss: 0.6072\n",
            "Epoch 16/20\n",
            "\u001b[1m30/30\u001b[0m \u001b[32m━━━━━━━━━━━━━━━━━━━━\u001b[0m\u001b[37m\u001b[0m \u001b[1m1s\u001b[0m 36ms/step - accuracy: 0.9944 - loss: 0.0210 - val_accuracy: 0.8639 - val_loss: 0.6267\n",
            "Epoch 17/20\n",
            "\u001b[1m30/30\u001b[0m \u001b[32m━━━━━━━━━━━━━━━━━━━━\u001b[0m\u001b[37m\u001b[0m \u001b[1m1s\u001b[0m 36ms/step - accuracy: 0.9998 - loss: 0.0042 - val_accuracy: 0.8633 - val_loss: 0.6577\n",
            "Epoch 18/20\n",
            "\u001b[1m30/30\u001b[0m \u001b[32m━━━━━━━━━━━━━━━━━━━━\u001b[0m\u001b[37m\u001b[0m \u001b[1m1s\u001b[0m 37ms/step - accuracy: 0.9912 - loss: 0.0319 - val_accuracy: 0.8648 - val_loss: 0.6680\n",
            "Epoch 19/20\n",
            "\u001b[1m30/30\u001b[0m \u001b[32m━━━━━━━━━━━━━━━━━━━━\u001b[0m\u001b[37m\u001b[0m \u001b[1m1s\u001b[0m 36ms/step - accuracy: 0.9998 - loss: 0.0028 - val_accuracy: 0.8664 - val_loss: 0.6937\n",
            "Epoch 20/20\n",
            "\u001b[1m30/30\u001b[0m \u001b[32m━━━━━━━━━━━━━━━━━━━━\u001b[0m\u001b[37m\u001b[0m \u001b[1m2s\u001b[0m 56ms/step - accuracy: 0.9924 - loss: 0.0246 - val_accuracy: 0.8662 - val_loss: 0.6983\n"
          ]
        }
      ]
    },
    {
      "cell_type": "code",
      "source": [
        "# 5️ Add Regularization (Dropout + L2)\n",
        "print(\" Dropout + L2 Regularization\")\n",
        "reg_model = model_variant(l2_reg=0.001, dropout=True)\n",
        "hist_reg = reg_model.fit(partial_x_train, partial_y_train, epochs=20, batch_size=512,\n",
        "                         validation_data=(x_val, y_val), verbose=1)"
      ],
      "metadata": {
        "id": "V26URWBAtGB2",
        "colab": {
          "base_uri": "https://localhost:8080/"
        },
        "outputId": "c0ff6833-2d54-4228-bc35-2d8d349afe37"
      },
      "execution_count": 13,
      "outputs": [
        {
          "output_type": "stream",
          "name": "stdout",
          "text": [
            " Dropout + L2 Regularization\n",
            "Epoch 1/20\n",
            "\u001b[1m30/30\u001b[0m \u001b[32m━━━━━━━━━━━━━━━━━━━━\u001b[0m\u001b[37m\u001b[0m \u001b[1m4s\u001b[0m 68ms/step - accuracy: 0.5772 - loss: 0.7177 - val_accuracy: 0.7743 - val_loss: 0.5857\n",
            "Epoch 2/20\n",
            "\u001b[1m30/30\u001b[0m \u001b[32m━━━━━━━━━━━━━━━━━━━━\u001b[0m\u001b[37m\u001b[0m \u001b[1m1s\u001b[0m 41ms/step - accuracy: 0.7480 - loss: 0.5846 - val_accuracy: 0.8698 - val_loss: 0.4664\n",
            "Epoch 3/20\n",
            "\u001b[1m30/30\u001b[0m \u001b[32m━━━━━━━━━━━━━━━━━━━━\u001b[0m\u001b[37m\u001b[0m \u001b[1m1s\u001b[0m 37ms/step - accuracy: 0.8123 - loss: 0.4941 - val_accuracy: 0.8720 - val_loss: 0.4116\n",
            "Epoch 4/20\n",
            "\u001b[1m30/30\u001b[0m \u001b[32m━━━━━━━━━━━━━━━━━━━━\u001b[0m\u001b[37m\u001b[0m \u001b[1m1s\u001b[0m 37ms/step - accuracy: 0.8528 - loss: 0.4278 - val_accuracy: 0.8850 - val_loss: 0.3600\n",
            "Epoch 5/20\n",
            "\u001b[1m30/30\u001b[0m \u001b[32m━━━━━━━━━━━━━━━━━━━━\u001b[0m\u001b[37m\u001b[0m \u001b[1m1s\u001b[0m 38ms/step - accuracy: 0.8773 - loss: 0.3863 - val_accuracy: 0.8857 - val_loss: 0.3510\n",
            "Epoch 6/20\n",
            "\u001b[1m30/30\u001b[0m \u001b[32m━━━━━━━━━━━━━━━━━━━━\u001b[0m\u001b[37m\u001b[0m \u001b[1m1s\u001b[0m 36ms/step - accuracy: 0.9056 - loss: 0.3508 - val_accuracy: 0.8865 - val_loss: 0.3451\n",
            "Epoch 7/20\n",
            "\u001b[1m30/30\u001b[0m \u001b[32m━━━━━━━━━━━━━━━━━━━━\u001b[0m\u001b[37m\u001b[0m \u001b[1m2s\u001b[0m 56ms/step - accuracy: 0.9239 - loss: 0.3078 - val_accuracy: 0.8742 - val_loss: 0.3458\n",
            "Epoch 8/20\n",
            "\u001b[1m30/30\u001b[0m \u001b[32m━━━━━━━━━━━━━━━━━━━━\u001b[0m\u001b[37m\u001b[0m \u001b[1m1s\u001b[0m 46ms/step - accuracy: 0.9283 - loss: 0.2953 - val_accuracy: 0.8867 - val_loss: 0.3373\n",
            "Epoch 9/20\n",
            "\u001b[1m30/30\u001b[0m \u001b[32m━━━━━━━━━━━━━━━━━━━━\u001b[0m\u001b[37m\u001b[0m \u001b[1m2s\u001b[0m 37ms/step - accuracy: 0.9361 - loss: 0.2720 - val_accuracy: 0.8855 - val_loss: 0.3364\n",
            "Epoch 10/20\n",
            "\u001b[1m30/30\u001b[0m \u001b[32m━━━━━━━━━━━━━━━━━━━━\u001b[0m\u001b[37m\u001b[0m \u001b[1m1s\u001b[0m 36ms/step - accuracy: 0.9394 - loss: 0.2576 - val_accuracy: 0.8847 - val_loss: 0.3532\n",
            "Epoch 11/20\n",
            "\u001b[1m30/30\u001b[0m \u001b[32m━━━━━━━━━━━━━━━━━━━━\u001b[0m\u001b[37m\u001b[0m \u001b[1m1s\u001b[0m 37ms/step - accuracy: 0.9456 - loss: 0.2407 - val_accuracy: 0.8813 - val_loss: 0.3627\n",
            "Epoch 12/20\n",
            "\u001b[1m30/30\u001b[0m \u001b[32m━━━━━━━━━━━━━━━━━━━━\u001b[0m\u001b[37m\u001b[0m \u001b[1m1s\u001b[0m 38ms/step - accuracy: 0.9475 - loss: 0.2329 - val_accuracy: 0.8846 - val_loss: 0.3672\n",
            "Epoch 13/20\n",
            "\u001b[1m30/30\u001b[0m \u001b[32m━━━━━━━━━━━━━━━━━━━━\u001b[0m\u001b[37m\u001b[0m \u001b[1m1s\u001b[0m 36ms/step - accuracy: 0.9505 - loss: 0.2244 - val_accuracy: 0.8668 - val_loss: 0.3957\n",
            "Epoch 14/20\n",
            "\u001b[1m30/30\u001b[0m \u001b[32m━━━━━━━━━━━━━━━━━━━━\u001b[0m\u001b[37m\u001b[0m \u001b[1m1s\u001b[0m 38ms/step - accuracy: 0.9545 - loss: 0.2115 - val_accuracy: 0.8811 - val_loss: 0.4193\n",
            "Epoch 15/20\n",
            "\u001b[1m30/30\u001b[0m \u001b[32m━━━━━━━━━━━━━━━━━━━━\u001b[0m\u001b[37m\u001b[0m \u001b[1m1s\u001b[0m 36ms/step - accuracy: 0.9575 - loss: 0.2045 - val_accuracy: 0.8785 - val_loss: 0.4026\n",
            "Epoch 16/20\n",
            "\u001b[1m30/30\u001b[0m \u001b[32m━━━━━━━━━━━━━━━━━━━━\u001b[0m\u001b[37m\u001b[0m \u001b[1m2s\u001b[0m 60ms/step - accuracy: 0.9586 - loss: 0.1985 - val_accuracy: 0.8798 - val_loss: 0.4156\n",
            "Epoch 17/20\n",
            "\u001b[1m30/30\u001b[0m \u001b[32m━━━━━━━━━━━━━━━━━━━━\u001b[0m\u001b[37m\u001b[0m \u001b[1m2s\u001b[0m 39ms/step - accuracy: 0.9625 - loss: 0.1933 - val_accuracy: 0.8797 - val_loss: 0.4234\n",
            "Epoch 18/20\n",
            "\u001b[1m30/30\u001b[0m \u001b[32m━━━━━━━━━━━━━━━━━━━━\u001b[0m\u001b[37m\u001b[0m \u001b[1m1s\u001b[0m 37ms/step - accuracy: 0.9632 - loss: 0.1829 - val_accuracy: 0.8781 - val_loss: 0.4283\n",
            "Epoch 19/20\n",
            "\u001b[1m30/30\u001b[0m \u001b[32m━━━━━━━━━━━━━━━━━━━━\u001b[0m\u001b[37m\u001b[0m \u001b[1m1s\u001b[0m 37ms/step - accuracy: 0.9624 - loss: 0.1846 - val_accuracy: 0.8814 - val_loss: 0.4585\n",
            "Epoch 20/20\n",
            "\u001b[1m30/30\u001b[0m \u001b[32m━━━━━━━━━━━━━━━━━━━━\u001b[0m\u001b[37m\u001b[0m \u001b[1m1s\u001b[0m 35ms/step - accuracy: 0.9682 - loss: 0.1747 - val_accuracy: 0.8791 - val_loss: 0.4415\n"
          ]
        }
      ]
    },
    {
      "cell_type": "code",
      "source": [
        "def best_val_accuracy(hist):\n",
        "    return round(max(hist.history['val_accuracy']), 4)\n",
        "\n",
        "results_summary = {\n",
        "    \"Base\": best_val_accuracy(base_hist),\n",
        "    \"1 Layer\": best_val_accuracy(hist_one),\n",
        "    \"3 Layers\": best_val_accuracy(hist_three),\n",
        "    \"32 Units\": best_val_accuracy(hist_32),\n",
        "    \"64 Units\": best_val_accuracy(hist_64),\n",
        "    \"MSE Loss\": best_val_accuracy(hist_mse),\n",
        "    \"tanh Activation\": best_val_accuracy(hist_tanh),\n",
        "    \"Regularized\": best_val_accuracy(hist_reg)\n",
        "}\n",
        "\n",
        "print(\"\\n Validation Accuracy Summary:\")\n",
        "import pandas as pd\n",
        "\n",
        "# Convert results_summary dictionary to a DataFrame\n",
        "results_df = pd.DataFrame(list(results_summary.items()), columns=['Model Variant', 'Validation Accuracy'])\n",
        "\n",
        "# Sort the table by accuracy (highest first)\n",
        "results_df = results_df.sort_values(by='Validation Accuracy', ascending=False).reset_index(drop=True)\n",
        "\n",
        "# Display results\n",
        "print(\"\\nModel Performance Comparison Table:\\n\")\n",
        "try:\n",
        "    from IPython.display import display\n",
        "    display(results_df.style.background_gradient(cmap='Blues').format({'Validation Accuracy': '{:.4f}'}))\n",
        "except:\n",
        "    pass\n",
        "\n"
      ],
      "metadata": {
        "id": "l4LHOwqltIe2",
        "colab": {
          "base_uri": "https://localhost:8080/",
          "height": 387
        },
        "outputId": "2bf2ee76-2965-4e0a-f2b2-4583e66f1572"
      },
      "execution_count": 14,
      "outputs": [
        {
          "output_type": "stream",
          "name": "stdout",
          "text": [
            "\n",
            " Validation Accuracy Summary:\n",
            "\n",
            "Model Performance Comparison Table:\n",
            "\n"
          ]
        },
        {
          "output_type": "display_data",
          "data": {
            "text/plain": [
              "<pandas.io.formats.style.Styler at 0x7f6051381520>"
            ],
            "text/html": [
              "<style type=\"text/css\">\n",
              "#T_a121f_row0_col1 {\n",
              "  background-color: #08306b;\n",
              "  color: #f1f1f1;\n",
              "}\n",
              "#T_a121f_row1_col1 {\n",
              "  background-color: #083370;\n",
              "  color: #f1f1f1;\n",
              "}\n",
              "#T_a121f_row2_col1, #T_a121f_row3_col1 {\n",
              "  background-color: #08519c;\n",
              "  color: #f1f1f1;\n",
              "}\n",
              "#T_a121f_row4_col1 {\n",
              "  background-color: #1967ad;\n",
              "  color: #f1f1f1;\n",
              "}\n",
              "#T_a121f_row5_col1 {\n",
              "  background-color: #2676b8;\n",
              "  color: #f1f1f1;\n",
              "}\n",
              "#T_a121f_row6_col1 {\n",
              "  background-color: #3282be;\n",
              "  color: #f1f1f1;\n",
              "}\n",
              "#T_a121f_row7_col1 {\n",
              "  background-color: #f7fbff;\n",
              "  color: #000000;\n",
              "}\n",
              "</style>\n",
              "<table id=\"T_a121f\" class=\"dataframe\">\n",
              "  <thead>\n",
              "    <tr>\n",
              "      <th class=\"blank level0\" >&nbsp;</th>\n",
              "      <th id=\"T_a121f_level0_col0\" class=\"col_heading level0 col0\" >Model Variant</th>\n",
              "      <th id=\"T_a121f_level0_col1\" class=\"col_heading level0 col1\" >Validation Accuracy</th>\n",
              "    </tr>\n",
              "  </thead>\n",
              "  <tbody>\n",
              "    <tr>\n",
              "      <th id=\"T_a121f_level0_row0\" class=\"row_heading level0 row0\" >0</th>\n",
              "      <td id=\"T_a121f_row0_col0\" class=\"data row0 col0\" >Base</td>\n",
              "      <td id=\"T_a121f_row0_col1\" class=\"data row0 col1\" >0.8889</td>\n",
              "    </tr>\n",
              "    <tr>\n",
              "      <th id=\"T_a121f_level0_row1\" class=\"row_heading level0 row1\" >1</th>\n",
              "      <td id=\"T_a121f_row1_col0\" class=\"data row1 col0\" >1 Layer</td>\n",
              "      <td id=\"T_a121f_row1_col1\" class=\"data row1 col1\" >0.8888</td>\n",
              "    </tr>\n",
              "    <tr>\n",
              "      <th id=\"T_a121f_level0_row2\" class=\"row_heading level0 row2\" >2</th>\n",
              "      <td id=\"T_a121f_row2_col0\" class=\"data row2 col0\" >3 Layers</td>\n",
              "      <td id=\"T_a121f_row2_col1\" class=\"data row2 col1\" >0.8880</td>\n",
              "    </tr>\n",
              "    <tr>\n",
              "      <th id=\"T_a121f_level0_row3\" class=\"row_heading level0 row3\" >3</th>\n",
              "      <td id=\"T_a121f_row3_col0\" class=\"data row3 col0\" >64 Units</td>\n",
              "      <td id=\"T_a121f_row3_col1\" class=\"data row3 col1\" >0.8880</td>\n",
              "    </tr>\n",
              "    <tr>\n",
              "      <th id=\"T_a121f_level0_row4\" class=\"row_heading level0 row4\" >4</th>\n",
              "      <td id=\"T_a121f_row4_col0\" class=\"data row4 col0\" >32 Units</td>\n",
              "      <td id=\"T_a121f_row4_col1\" class=\"data row4 col1\" >0.8874</td>\n",
              "    </tr>\n",
              "    <tr>\n",
              "      <th id=\"T_a121f_level0_row5\" class=\"row_heading level0 row5\" >5</th>\n",
              "      <td id=\"T_a121f_row5_col0\" class=\"data row5 col0\" >MSE Loss</td>\n",
              "      <td id=\"T_a121f_row5_col1\" class=\"data row5 col1\" >0.8870</td>\n",
              "    </tr>\n",
              "    <tr>\n",
              "      <th id=\"T_a121f_level0_row6\" class=\"row_heading level0 row6\" >6</th>\n",
              "      <td id=\"T_a121f_row6_col0\" class=\"data row6 col0\" >Regularized</td>\n",
              "      <td id=\"T_a121f_row6_col1\" class=\"data row6 col1\" >0.8867</td>\n",
              "    </tr>\n",
              "    <tr>\n",
              "      <th id=\"T_a121f_level0_row7\" class=\"row_heading level0 row7\" >7</th>\n",
              "      <td id=\"T_a121f_row7_col0\" class=\"data row7 col0\" >tanh Activation</td>\n",
              "      <td id=\"T_a121f_row7_col1\" class=\"data row7 col1\" >0.8819</td>\n",
              "    </tr>\n",
              "  </tbody>\n",
              "</table>\n"
            ]
          },
          "metadata": {}
        }
      ]
    },
    {
      "cell_type": "code",
      "source": [
        "plt.figure(figsize=(8,5))\n",
        "plt.plot(base_hist.history['val_accuracy'], label='Base')\n",
        "plt.plot(hist_reg.history['val_accuracy'], label='Regularized')\n",
        "plt.title(\"Validation Accuracy Trends\")\n",
        "plt.xlabel(\"Epochs\")\n",
        "plt.ylabel(\"Accuracy\")\n",
        "plt.legend()\n",
        "plt.grid(True)\n",
        "plt.show()\n",
        "\n",
        "\n"
      ],
      "metadata": {
        "id": "ikCIaK50tJvy",
        "colab": {
          "base_uri": "https://localhost:8080/",
          "height": 487
        },
        "outputId": "83e24e7a-b8a1-4aff-ddd7-f8746e69732e"
      },
      "execution_count": 17,
      "outputs": [
        {
          "output_type": "display_data",
          "data": {
            "text/plain": [
              "<Figure size 800x500 with 1 Axes>"
            ],
            "image/png": "[encoded data removed]"
          },
          "metadata": {}
        }
      ]
    },
    {
      "cell_type": "code",
      "source": [
        "# Sort models by validation accuracy (highest to lowest)\n",
        "sorted_results = dict(sorted(results_summary.items(), key=lambda x: x[1], reverse=True))\n",
        "\n",
        "plt.figure(figsize=(10,6))\n",
        "bars = plt.barh(list(sorted_results.keys()), list(sorted_results.values()), height=0.5)\n",
        "\n",
        "# Add accuracy labels to each bar\n",
        "for i, bar in enumerate(bars):\n",
        "    plt.text(bar.get_width() + 0.002, bar.get_y() + bar.get_height()/2,\n",
        "             f\"{list(sorted_results.values())[i]:.4f}\", va='center')\n",
        "\n",
        "# Styling and labels\n",
        "plt.xlabel(\"Validation Accuracy\")\n",
        "plt.ylabel(\"Model Variant\")\n",
        "plt.title(\"Comparison of Validation Accuracy Across Model Variants\")\n",
        "plt.gca().invert_yaxis()  # Show highest accuracy on top\n",
        "plt.grid(axis='x', linestyle='--', alpha=0.7)\n",
        "plt.tight_layout()\n",
        "plt.show()\n"
      ],
      "metadata": {
        "colab": {
          "base_uri": "https://localhost:8080/",
          "height": 607
        },
        "id": "Ar5A-BxMpEyx",
        "outputId": "579ed744-c216-4690-b025-860418b6d909"
      },
      "execution_count": 18,
      "outputs": [
        {
          "output_type": "display_data",
          "data": {
            "text/plain": [
              "<Figure size 1000x600 with 1 Axes>"
            ],
            "image/png": "[encoded data removed]"
          },
          "metadata": {}
        }
      ]
    }
  ]
}